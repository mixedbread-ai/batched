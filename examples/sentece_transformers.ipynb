{
 "cells": [
  {
   "cell_type": "markdown",
   "metadata": {
    "collapsed": false
   },
   "source": [
    "## General batching"
   ]
  },
  {
   "cell_type": "markdown",
   "metadata": {
    "collapsed": false
   },
   "source": [
    "### Sentence Transformers"
   ]
  },
  {
   "cell_type": "code",
   "execution_count": 1,
   "metadata": {
    "ExecuteTime": {
     "end_time": "2024-08-21T22:31:34.061331Z",
     "start_time": "2024-08-21T22:31:31.045823Z"
    }
   },
   "outputs": [
    {
     "name": "stderr",
     "output_type": "stream",
     "text": [
      "/home/deepset/miniconda3/lib/python3.12/site-packages/sentence_transformers/cross_encoder/CrossEncoder.py:11: TqdmExperimentalWarning: Using `tqdm.autonotebook.tqdm` in notebook mode. Use `tqdm.tqdm` instead to force console mode (e.g. in jupyter console)\n",
      "  from tqdm.autonotebook import tqdm, trange\n"
     ]
    },
    {
     "data": {
      "application/vnd.jupyter.widget-view+json": {
       "model_id": "2cb0e598a3d348df91af681bc33d1db9",
       "version_major": 2,
       "version_minor": 0
      },
      "text/plain": [
       "README.md:   0%|          | 0.00/114k [00:00<?, ?B/s]"
      ]
     },
     "metadata": {},
     "output_type": "display_data"
    },
    {
     "data": {
      "text/plain": [
       "array([ 0.30596843,  0.7907292 ,  0.00980733, ...,  0.0644001 ,\n",
       "       -0.45898223, -0.01831897], dtype=float32)"
      ]
     },
     "execution_count": 1,
     "metadata": {},
     "output_type": "execute_result"
    }
   ],
   "source": [
    "import os\n",
    "os.environ[\"HF_HOME\"] = \"../.cache\"\n",
    "from sentence_transformers import SentenceTransformer\n",
    "from concurrent.futures import ThreadPoolExecutor\n",
    "# Load your model\n",
    "model = SentenceTransformer(\"mixedbread-ai/mxbai-embed-large-v1\")\n",
    "model.encode(\"Hello, world!\")"
   ]
  },
  {
   "cell_type": "code",
   "execution_count": 2,
   "metadata": {
    "ExecuteTime": {
     "end_time": "2024-08-21T22:31:35.222637Z",
     "start_time": "2024-08-21T22:31:35.218423Z"
    }
   },
   "outputs": [],
   "source": [
    "def simple_encode(text: list[str]):\n",
    "    return model.encode(text)"
   ]
  },
  {
   "cell_type": "code",
   "execution_count": 3,
   "metadata": {
    "ExecuteTime": {
     "end_time": "2024-08-21T22:32:02.722081Z",
     "start_time": "2024-08-21T22:31:36.011677Z"
    },
    "collapsed": false
   },
   "outputs": [
    {
     "name": "stdout",
     "output_type": "stream",
     "text": [
      "Execution time: 20.67 seconds\n"
     ]
    }
   ],
   "source": [
    "import timeit\n",
    "\n",
    "def run_benchmark():\n",
    "    with ThreadPoolExecutor(max_workers=128) as executor:\n",
    "        list(executor.map(simple_encode, [[\"Hello, world!\"] for _ in range(1000)]))\n",
    "\n",
    "# Run the benchmark 1k requests\n",
    "execution_time = timeit.timeit(run_benchmark, number=1)\n",
    "print(f\"Execution time: {execution_time:.2f} seconds\")"
   ]
  },
  {
   "cell_type": "code",
   "execution_count": 4,
   "metadata": {
    "ExecuteTime": {
     "end_time": "2024-08-21T22:32:28.560176Z",
     "start_time": "2024-08-21T22:32:26.709862Z"
    },
    "collapsed": false
   },
   "outputs": [
    {
     "name": "stdout",
     "output_type": "stream",
     "text": [
      "Execution time: 6.10 seconds\n"
     ]
    }
   ],
   "source": [
    "import batched\n",
    "import timeit\n",
    "\n",
    "dynamic_encode = batched.dynamically(simple_encode, batch_size=128)\n",
    "\n",
    "def run_benchmark():\n",
    "    with ThreadPoolExecutor(max_workers=128) as executor:\n",
    "        list(executor.map(dynamic_encode, [[\"Hello, world!\"] for _ in range(10000)]))\n",
    "\n",
    "\n",
    "# Run the benchmark for 10k requests\n",
    "execution_time = timeit.timeit(run_benchmark, number=1)\n",
    "print(f\"Execution time: {execution_time:.2f} seconds\")"
   ]
  }
 ],
 "metadata": {
  "kernelspec": {
   "display_name": "base",
   "language": "python",
   "name": "python3"
  },
  "language_info": {
   "codemirror_mode": {
    "name": "ipython",
    "version": 3
   },
   "file_extension": ".py",
   "mimetype": "text/x-python",
   "name": "python",
   "nbconvert_exporter": "python",
   "pygments_lexer": "ipython3",
   "version": "3.11.8"
  }
 },
 "nbformat": 4,
 "nbformat_minor": 2
}
