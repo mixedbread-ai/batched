{
 "cells": [
  {
   "cell_type": "code",
   "execution_count": 2,
   "id": "initial_id",
   "metadata": {
    "ExecuteTime": {
     "end_time": "2024-08-21T23:37:37.006201Z",
     "start_time": "2024-08-21T23:37:35.669198Z"
    },
    "collapsed": true
   },
   "outputs": [
    {
     "name": "stdout",
     "output_type": "stream",
     "text": [
      "Batched inference time: 3.77 seconds\n",
      "Number of processed items: 4000\n",
      "Shape of the first result: (8, 1024)\n",
      "\n",
      "Batch processing statistics:\n",
      "BatchProcessorStats(queue_size=0, total_processed=4000, total_batches=250, avg_batch_size=16.0, avg_processing_time=0.01382733154296875)\n"
     ]
    }
   ],
   "source": [
    "import torch\n",
    "from transformers import AutoTokenizer, AutoModel\n",
    "from batched import inference\n",
    "import time\n",
    "\n",
    "# Load pre-trained model and tokenizer\n",
    "model_name = \"mixedbread-ai/mxbai-embed-large-v1\"\n",
    "tokenizer = AutoTokenizer.from_pretrained(model_name)\n",
    "model = AutoModel.from_pretrained(model_name)\n",
    "\n",
    "# Move model to GPU if available\n",
    "device = torch.device(\"cuda\" if torch.cuda.is_available() else \"cpu\")\n",
    "model.to(device)\n",
    "\n",
    "# Define the batch inference function\n",
    "@inference.dynamically(\n",
    "    batch_size=16,\n",
    "    timeout_ms=10.0,\n",
    ")\n",
    "def forward(features):\n",
    "    features = {k: v.to(device) for k, v in features.items()}\n",
    "    with torch.no_grad():\n",
    "        outputs = model(**features)\n",
    "    return outputs.last_hidden_state\n",
    "\n",
    "def batch_encode(texts):\n",
    "    inputs = tokenizer(texts, padding=True, truncation=True, return_tensors=\"pt\")\n",
    "    inputs = {k: v.to(device) for k, v in inputs.items()}\n",
    "    \n",
    "    with torch.no_grad():\n",
    "        outputs = forward(**inputs)\n",
    "    \n",
    "    # Return the last hidden states\n",
    "    return outputs.cpu().numpy()\n",
    "\n",
    "# Example usage\n",
    "texts = [\n",
    "    \"Hello, how are you?\",\n",
    "    \"The weather is nice today.\",\n",
    "    \"I love programming in Python!\",\n",
    "    \"Machine learning is fascinating.\",\n",
    "] * 1000\n",
    "\n",
    "# Measure time for batched inference\n",
    "start_time = time.time()\n",
    "batched_results = batch_encode(texts)\n",
    "end_time = time.time()\n",
    "\n",
    "print(f\"Batched inference time: {end_time - start_time:.2f} seconds\")\n",
    "print(f\"Number of processed items: {len(texts)}\")\n",
    "print(f\"Shape of the first result: {batched_results[0].shape}\")\n",
    "\n",
    "# Print batch processing statistics\n",
    "print(\"\\nBatch processing statistics:\")\n",
    "print(forward.stats)"
   ]
  }
 ],
 "metadata": {
  "kernelspec": {
   "display_name": "Python 3",
   "language": "python",
   "name": "python3"
  },
  "language_info": {
   "codemirror_mode": {
    "name": "ipython",
    "version": 3
   },
   "file_extension": ".py",
   "mimetype": "text/x-python",
   "name": "python",
   "nbconvert_exporter": "python",
   "pygments_lexer": "ipython3",
   "version": "3.11.8"
  }
 },
 "nbformat": 4,
 "nbformat_minor": 5
}
